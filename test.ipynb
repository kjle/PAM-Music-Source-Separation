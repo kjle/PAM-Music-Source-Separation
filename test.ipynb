{
 "cells": [
  {
   "cell_type": "code",
   "execution_count": 1,
   "metadata": {},
   "outputs": [],
   "source": [
    "import os\n",
    "import torch\n",
    "import torchaudio\n",
    "import sys\n",
    "\n",
    "sys.path.append('./src_torch')\n",
    "\n",
    "import soundfile as sf\n",
    "\n",
    "from src_torch.separation import FastMNMF2\n",
    "from src_torch.Base import MultiSTFT\n"
   ]
  },
  {
   "cell_type": "code",
   "execution_count": 2,
   "metadata": {},
   "outputs": [
    {
     "name": "stdout",
     "output_type": "stream",
     "text": [
      "Update FastMNMF2_IP-M=2-S=5-F=513-K=2-init=circular-g=0.05-bit=64-intv_norm=10  30 times ...\n"
     ]
    },
    {
     "name": "stderr",
     "output_type": "stream",
     "text": [
      "100%|██████████| 30/30 [04:26<00:00,  8.89s/it]\n"
     ]
    },
    {
     "name": "stdout",
     "output_type": "stream",
     "text": [
      "Update FastMNMF2_IP-M=2-S=5-F=513-K=64-init=twostep_30it-g=0.05-bit=64-intv_norm=10-ID=test_audio  70 times ...\n"
     ]
    },
    {
     "name": "stderr",
     "output_type": "stream",
     "text": [
      "100%|██████████| 70/70 [09:00<00:00,  7.72s/it]\n"
     ]
    }
   ],
   "source": [
    "n_source = 5\n",
    "n_basis = 64\n",
    "device = \"cuda\" if torch.cuda.is_available() else \"cpu\"\n",
    "init_SCM = \"twostep\"\n",
    "n_bit = 64\n",
    "algo = \"IP\"\n",
    "n_iter_init = 30\n",
    "g_eps = 5e-2\n",
    "\n",
    "input_fname = \"./test_audio.mp3\"\n",
    "n_mic = 8\n",
    "n_fft = 1024\n",
    "n_iter = 100\n",
    "\n",
    "\n",
    "separater = FastMNMF2(\n",
    "    n_source=n_source,\n",
    "    n_basis=n_basis,\n",
    "    device=device,\n",
    "    init_SCM=init_SCM,\n",
    "    n_bit=n_bit,\n",
    "    algo=algo,\n",
    "    n_iter_init=n_iter_init,\n",
    "    g_eps=g_eps,\n",
    ")\n",
    "\n",
    "wav, sample_rate = torchaudio.load(input_fname, channels_first=False)\n",
    "wav /= torch.abs(wav).max() * 1.2\n",
    "M = min(len(wav), n_mic)\n",
    "spec_FTM = MultiSTFT(wav[:, :M], n_fft=n_fft)\n",
    "\n",
    "separater.file_id = input_fname.split(\"/\")[-1].split(\".\")[0]\n",
    "separater.load_spectrogram(spec_FTM, sample_rate)\n",
    "separater.solve(\n",
    "    n_iter=n_iter,\n",
    "    save_dir=\"./\",\n",
    "    save_likelihood=False,\n",
    "    save_param=False,\n",
    "    save_wav=True,\n",
    "    interval_save=5,\n",
    ")"
   ]
  },
  {
   "cell_type": "code",
   "execution_count": 5,
   "metadata": {},
   "outputs": [],
   "source": [
    "input_fname = \"FastMNMF2_IP-sep-M=2-S=5-F=513-K=64-init=twostep_30it-g=0.05-bit=64-intv_norm=10-ID=test_audio-100.wav\"\n",
    "wav, sample_rate = torchaudio.load(input_fname, channels_first=False)\n",
    "wav = wav.t()\n",
    "for i in range(n_source):\n",
    "    sf.write(f\"sep_{i}.wav\", wav[i].numpy(), sample_rate)\n"
   ]
  }
 ],
 "metadata": {
  "kernelspec": {
   "display_name": "ml_win",
   "language": "python",
   "name": "python3"
  },
  "language_info": {
   "codemirror_mode": {
    "name": "ipython",
    "version": 3
   },
   "file_extension": ".py",
   "mimetype": "text/x-python",
   "name": "python",
   "nbconvert_exporter": "python",
   "pygments_lexer": "ipython3",
   "version": "3.11.10"
  }
 },
 "nbformat": 4,
 "nbformat_minor": 2
}
