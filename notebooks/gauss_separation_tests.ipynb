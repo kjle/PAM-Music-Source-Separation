{
 "cells": [
  {
   "cell_type": "code",
   "execution_count": 1,
   "metadata": {},
   "outputs": [],
   "source": [
    "import numpy as np\n",
    "import soundfile as sf\n",
    "import scipy.signal as ss\n",
    "import librosa\n",
    "import IPython.display as ipd\n",
    "import matplotlib.pyplot as plt\n",
    "from tqdm.notebook import tqdm\n",
    "from ssspy.bss.mnmf import GaussMNMF as GaussMNMFBase\n",
    "\n",
    "# -------------------------------\n",
    "# ✅ Custom GaussMNMF Class (With Progress Bar)\n",
    "# -------------------------------\n",
    "class GaussMNMF(GaussMNMFBase):\n",
    "    def __init__(self, *args, **kwargs) -> None:\n",
    "        super().__init__(*args, **kwargs)\n",
    "        self.progress_bar = None\n",
    "\n",
    "    def __call__(self, *args, n_iter: int = 200, **kwargs) -> np.ndarray:\n",
    "        self.n_iter = n_iter\n",
    "        return super().__call__(*args, n_iter=n_iter, **kwargs)\n",
    "\n",
    "    def update_once(self) -> None:\n",
    "        if self.progress_bar is None:\n",
    "            self.progress_bar = tqdm(total=self.n_iter)\n",
    "        super().update_once()\n",
    "        self.progress_bar.update(1)\n",
    "\n",
    "# -------------------------------\n",
    "# ✅ Parameters\n",
    "# -------------------------------\n",
    "n_sources = 5  # Number of instruments\n",
    "n_basis = 30   # Number of basis components for MNMF\n",
    "n_fft = 4096   # Larger FFT for better separation\n",
    "hop_length = n_fft // 2\n",
    "window = \"hann\"\n",
    "extract_duration = 20  # Extract the last 20 seconds\n",
    "\n"
   ]
  },
  {
   "cell_type": "code",
   "execution_count": 2,
   "metadata": {},
   "outputs": [
    {
     "name": "stdout",
     "output_type": "stream",
     "text": [
      "✅ Loaded mixture: ../data_PAM/real/Fly_me_v2_indiv/Fly_me_v2.wav, Shape: (2, 882000), Sample Rate: 44100\n",
      "✅ Loaded basse: ../data_PAM/real/Fly_me_v2_indiv/Fly_me_v2_BASSE.wav, Shape: (2, 882000)\n",
      "✅ Loaded percus: ../data_PAM/real/Fly_me_v2_indiv/Fly_me_v2_PERCU.wav, Shape: (2, 882000)\n",
      "✅ Loaded piano: ../data_PAM/real/Fly_me_v2_indiv/Fly_me_v2_PIANO.wav, Shape: (2, 882000)\n",
      "✅ Loaded voix: ../data_PAM/real/Fly_me_v2_indiv/Fly_me_v2_VOIX.wav, Shape: (2, 882000)\n",
      "✅ Loaded saxo: ../data_PAM/real/Fly_me_v2_indiv/Fly_me_v2_SAXO.wav, Shape: (2, 882000)\n"
     ]
    }
   ],
   "source": [
    "# -------------------------------\n",
    "# 1️⃣ Load Mixture Recording (Extract Last 20 sec)\n",
    "# -------------------------------\n",
    "mixture_file = \"../data_PAM/real/Fly_me_v2_indiv/Fly_me_v2.wav\"\n",
    "mixture_audio, sr = sf.read(mixture_file)\n",
    "mixture_audio = mixture_audio.T  # Convert to (Channels, Samples)\n",
    "\n",
    "# ✅ Extract last 20 seconds\n",
    "num_samples = sr * extract_duration\n",
    "mixture_audio = mixture_audio[:, -num_samples:]  # Take last `extract_duration` seconds\n",
    "\n",
    "print(f\"✅ Loaded mixture: {mixture_file}, Shape: {mixture_audio.shape}, Sample Rate: {sr}\")\n",
    "\n",
    "# -------------------------------\n",
    "# 2️⃣ Load Individual Instrument Recordings (Extract Last 20 sec)\n",
    "# -------------------------------\n",
    "instrument_files = {\n",
    "    \"basse\": \"../data_PAM/real/Fly_me_v2_indiv/Fly_me_v2_BASSE.wav\",\n",
    "    \"percus\": \"../data_PAM/real/Fly_me_v2_indiv/Fly_me_v2_PERCU.wav\",\n",
    "    \"piano\": \"../data_PAM/real/Fly_me_v2_indiv/Fly_me_v2_PIANO.wav\",\n",
    "    \"voix\": \"../data_PAM/real/Fly_me_v2_indiv/Fly_me_v2_VOIX.wav\",\n",
    "    \"saxo\": \"../data_PAM/real/Fly_me_v2_indiv/Fly_me_v2_SAXO.wav\"\n",
    "}\n",
    "\n",
    "individual_tracks = {}\n",
    "\n",
    "for instrument, file in instrument_files.items():\n",
    "    audio, sr_instr = sf.read(file)\n",
    "\n",
    "    # ✅ Fix shape: Ensure (Channels, Samples)\n",
    "    if audio.ndim == 1:  \n",
    "        audio = np.expand_dims(audio, axis=0)  \n",
    "    elif audio.shape[1] == 2:  \n",
    "        audio = audio.T  \n",
    "\n",
    "    # ✅ Extract last 20 seconds\n",
    "    audio = audio[:, -num_samples:]\n",
    "    \n",
    "    individual_tracks[instrument] = audio\n",
    "    print(f\"✅ Loaded {instrument}: {file}, Shape: {audio.shape}\")\n"
   ]
  },
  {
   "cell_type": "code",
   "execution_count": 3,
   "metadata": {},
   "outputs": [
    {
     "name": "stdout",
     "output_type": "stream",
     "text": [
      "✅ STFT parameters: n_fft=4096, hop_length=2048\n",
      "✅ X_mixture shape after fix: (2, 432, 2049)\n",
      "✅ Computed STFTs.\n"
     ]
    }
   ],
   "source": [
    "# -------------------------------\n",
    "# 3️⃣ Compute STFT (Using Hann Window)\n",
    "# -------------------------------\n",
    "print(f\"✅ STFT parameters: n_fft={n_fft}, hop_length={hop_length}\")\n",
    "\n",
    "# Compute STFT for mixture\n",
    "_, _, X_mixture = ss.stft(mixture_audio, window=window, nperseg=n_fft, noverlap=n_fft - hop_length)\n",
    "\n",
    "# ✅ Fix shape: Swap Freq & Time to match (Channels, Time, Freq)\n",
    "X_mixture = np.moveaxis(X_mixture, 1, 2)\n",
    "print(f\"✅ X_mixture shape after fix: {X_mixture.shape}\")  # Should be (Channels, Time, Freq)\n",
    "\n",
    "# Compute STFT for each instrument recording\n",
    "X_individual = {\n",
    "    instr: np.moveaxis(\n",
    "        ss.stft(individual_tracks[instr], window=window, nperseg=n_fft, noverlap=n_fft - hop_length)[2],\n",
    "        1, 2  # ✅ Fix shape to match X_mixture\n",
    "    )\n",
    "    for instr in individual_tracks.keys()\n",
    "}\n",
    "\n",
    "print(\"✅ Computed STFTs.\")\n"
   ]
  },
  {
   "cell_type": "code",
   "execution_count": null,
   "metadata": {},
   "outputs": [
    {
     "name": "stdout",
     "output_type": "stream",
     "text": [
      "✅ GaussMNMF initialized successfully.\n"
     ]
    },
    {
     "data": {
      "application/vnd.jupyter.widget-view+json": {
       "model_id": "92ef2b47ba5b403a937e9c50e1a7fe9b",
       "version_major": 2,
       "version_minor": 0
      },
      "text/plain": [
       "  0%|          | 0/200 [00:00<?, ?it/s]"
      ]
     },
     "metadata": {},
     "output_type": "display_data"
    }
   ],
   "source": [
    "# -------------------------------\n",
    "# 4️⃣ Apply Gaussian MNMF with Partitioning\n",
    "# -------------------------------\n",
    "try:\n",
    "    nmf = GaussMNMF(n_basis=n_basis, n_sources=n_sources, partitioning=True, rng=np.random.default_rng(42))\n",
    "    print(\"✅ GaussMNMF initialized successfully.\")\n",
    "    \n",
    "    Y = nmf(X_mixture, reference=X_individual)\n",
    "    print(\"✅ Gaussian MNMF separation completed.\")\n",
    "except Exception as e:\n",
    "    print(f\"❌ Error during separation: {e}\")\n",
    "    exit()"
   ]
  },
  {
   "cell_type": "code",
   "execution_count": null,
   "metadata": {},
   "outputs": [],
   "source": [
    "# -------------------------------\n",
    "# 5️⃣ Reconstruct Audio, Save & Listen\n",
    "# -------------------------------\n",
    "try:\n",
    "    _, waveform_est = ss.istft(Y, window=window, nperseg=n_fft, noverlap=n_fft - hop_length)\n",
    "\n",
    "    for i, (instrument, _) in enumerate(instrument_files.items()):\n",
    "        output_file = f\"separated_{instrument}.wav\"\n",
    "        sf.write(output_file, waveform_est[i], sr)\n",
    "        print(f\"✅ Saved: {output_file}\")\n",
    "        ipd.display(ipd.Audio(waveform_est[i], rate=sr))\n",
    "\n",
    "    print(\"✅ Separation complete!\")\n",
    "\n",
    "    # ✅ Plot Loss Curve\n",
    "    plt.figure()\n",
    "    plt.plot(nmf.loss[10:])\n",
    "    plt.xlabel(\"Iterations\")\n",
    "    plt.ylabel(\"Loss\")\n",
    "    plt.title(\"GaussMNMF Loss Curve\")\n",
    "    plt.show()\n",
    "except Exception as e:\n",
    "    print(f\"❌ Error during ISTFT: {e}\")\n",
    "    exit()\n"
   ]
  },
  {
   "cell_type": "code",
   "execution_count": null,
   "metadata": {},
   "outputs": [],
   "source": []
  }
 ],
 "metadata": {
  "kernelspec": {
   "display_name": "creative_ml",
   "language": "python",
   "name": "python3"
  },
  "language_info": {
   "codemirror_mode": {
    "name": "ipython",
    "version": 3
   },
   "file_extension": ".py",
   "mimetype": "text/x-python",
   "name": "python",
   "nbconvert_exporter": "python",
   "pygments_lexer": "ipython3",
   "version": "3.11.8"
  }
 },
 "nbformat": 4,
 "nbformat_minor": 2
}
