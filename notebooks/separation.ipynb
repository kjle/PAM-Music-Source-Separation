{
 "cells": [
  {
   "cell_type": "code",
   "execution_count": 1,
   "metadata": {},
   "outputs": [],
   "source": [
    "import os\n",
    "import torch\n",
    "import torchaudio\n",
    "import sys\n",
    "\n",
    "notebook_dir = os.getcwd()\n",
    "sys.path.append(os.path.join(notebook_dir, \"../src_torch\"))\n",
    "\n",
    "import soundfile as sf\n",
    "\n",
    "from separation.FastMNMF2 import FastMNMF2\n",
    "from Base import MultiSTFT\n"
   ]
  },
  {
   "cell_type": "markdown",
   "metadata": {},
   "source": [
    "## FastMNMF2"
   ]
  },
  {
   "cell_type": "code",
   "execution_count": 11,
   "metadata": {},
   "outputs": [
    {
     "name": "stdout",
     "output_type": "stream",
     "text": [
      "Update FastMNMF2_IP-M=4-S=3-F=1025-K=32-init=circular-g=5e-05-bit=32-intv_norm=10-ID=classic_all_1_4chann  1000 times ...\n"
     ]
    },
    {
     "name": "stderr",
     "output_type": "stream",
     "text": [
      "100%|██████████| 1000/1000 [03:55<00:00,  4.25it/s]\n"
     ]
    }
   ],
   "source": [
    "audio_src_dir = \"classic\"\n",
    "audio_src_name = \"classic_all_1_4chann.wav\"\n",
    "audio_src_path = os.path.join(notebook_dir, \"../\", audio_src_dir, audio_src_name)\n",
    "\n",
    "audio_save_dir = os.path.join(notebook_dir, \"..\", \"result\")\n",
    "if not os.path.exists(audio_save_dir):\n",
    "    os.makedirs(audio_save_dir)\n",
    "\n",
    "n_source = 3\n",
    "n_basis = 32\n",
    "device = \"cuda:1\" if torch.cuda.is_available() else \"cpu\"\n",
    "init_SCM = \"circular\"\n",
    "n_bit = 32\n",
    "algo = \"IP\"\n",
    "n_iter_init = 200\n",
    "g_eps = 5e-5\n",
    "\n",
    "n_mic = 4\n",
    "n_fft = 2048\n",
    "n_iter = 1000\n",
    "\n",
    "# load audio\n",
    "wav, sample_rate = torchaudio.load(audio_src_path, channels_first=False)\n",
    "wav /= torch.abs(wav).max() * 1.2\n",
    "M = min(len(wav), n_mic)\n",
    "spec_FTM = MultiSTFT(wav[:, :M], n_fft=n_fft)\n",
    "\n",
    "separater = FastMNMF2(\n",
    "    n_source=n_source,\n",
    "    n_basis=n_basis,\n",
    "    device=device,\n",
    "    init_SCM=init_SCM,\n",
    "    n_bit=n_bit,\n",
    "    algo=algo,\n",
    "    n_iter_init=n_iter_init,\n",
    "    g_eps=g_eps,\n",
    ")\n",
    "\n",
    "separater.file_id = audio_src_path.split(\"/\")[-1].split(\".\")[0]\n",
    "separater.load_spectrogram(spec_FTM, sample_rate)\n",
    "separater.solve(\n",
    "    n_iter=n_iter,\n",
    "    save_dir=audio_save_dir,\n",
    "    save_likelihood=False,\n",
    "    save_param=False,\n",
    "    save_wav=True,\n",
    "    interval_save=5,\n",
    ")\n",
    "torch.cuda.empty_cache()"
   ]
  },
  {
   "cell_type": "code",
   "execution_count": null,
   "metadata": {},
   "outputs": [],
   "source": []
  },
  {
   "cell_type": "markdown",
   "metadata": {},
   "source": []
  },
  {
   "cell_type": "markdown",
   "metadata": {},
   "source": [
    "## GAUSSIAN MNMF\n",
    "#### Sawada"
   ]
  },
  {
   "cell_type": "code",
   "execution_count": null,
   "metadata": {},
   "outputs": [],
   "source": [
    "import soundfile as sf\n",
    "import numpy as np\n",
    "import librosa\n",
    "\n",
    "# Define your dataset paths\n",
    "wav_file = \"your_multichannel_recording.wav\"  # Replace with your main mix\n",
    "instrument_files = {\n",
    "    \"violin\": \"violin_isolated.wav\",\n",
    "    \"cello\": \"cello_isolated.wav\",\n",
    "    \"piano\": \"piano_isolated.wav\",\n",
    "}  # For classical, if available\n",
    "\n",
    "# Load multichannel recording (assumes (N_samples, N_channels))\n",
    "multi_channel_audio, sr = sf.read(wav_file)  # Shape (N_samples, Channels)\n",
    "\n",
    "# Transpose to (Channels, Samples) for MNMF\n",
    "multi_channel_audio = multi_channel_audio.T\n",
    "\n",
    "print(f\"Loaded {wav_file} with shape: {multi_channel_audio.shape}, Sample Rate: {sr}\")\n"
   ]
  },
  {
   "cell_type": "markdown",
   "metadata": {},
   "source": []
  }
 ],
 "metadata": {
  "kernelspec": {
   "display_name": "creative_ml",
   "language": "python",
   "name": "python3"
  },
  "language_info": {
   "codemirror_mode": {
    "name": "ipython",
    "version": 3
   },
   "file_extension": ".py",
   "mimetype": "text/x-python",
   "name": "python",
   "nbconvert_exporter": "python",
   "pygments_lexer": "ipython3",
   "version": "3.11.8"
  }
 },
 "nbformat": 4,
 "nbformat_minor": 2
}
