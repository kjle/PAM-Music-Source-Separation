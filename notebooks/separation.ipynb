{
 "cells": [
  {
   "cell_type": "code",
   "execution_count": 1,
   "metadata": {},
   "outputs": [],
   "source": [
    "import os\n",
    "import torch\n",
    "import torchaudio\n",
    "import sys\n",
    "\n",
    "notebook_dir = os.getcwd()\n",
    "sys.path.append(os.path.join(notebook_dir, \"../src_torch\"))\n",
    "\n",
    "import soundfile as sf\n",
    "\n",
    "from separation.FastMNMF2 import FastMNMF2\n",
    "from Base import MultiSTFT\n"
   ]
  },
  {
   "cell_type": "markdown",
   "metadata": {},
   "source": [
    "## FastMNMF2"
   ]
  },
  {
   "cell_type": "code",
   "execution_count": 11,
   "metadata": {},
   "outputs": [
    {
     "name": "stdout",
     "output_type": "stream",
     "text": [
      "Update FastMNMF2_IP-M=4-S=3-F=1025-K=32-init=circular-g=5e-05-bit=32-intv_norm=10-ID=classic_all_1_4chann  1000 times ...\n"
     ]
    },
    {
     "name": "stderr",
     "output_type": "stream",
     "text": [
      "100%|██████████| 1000/1000 [03:55<00:00,  4.25it/s]\n"
     ]
    }
   ],
   "source": [
    "audio_src_dir = \"classic\"\n",
    "audio_src_name = \"classic_all_1_4chann.wav\"\n",
    "audio_src_path = os.path.join(notebook_dir, \"../\", audio_src_dir, audio_src_name)\n",
    "\n",
    "audio_save_dir = os.path.join(notebook_dir, \"..\", \"result\")\n",
    "if not os.path.exists(audio_save_dir):\n",
    "    os.makedirs(audio_save_dir)\n",
    "\n",
    "n_source = 3\n",
    "n_basis = 32\n",
    "device = \"cuda:1\" if torch.cuda.is_available() else \"cpu\"\n",
    "init_SCM = \"circular\"\n",
    "n_bit = 32\n",
    "algo = \"IP\"\n",
    "n_iter_init = 200\n",
    "g_eps = 5e-5\n",
    "\n",
    "n_mic = 4\n",
    "n_fft = 2048\n",
    "n_iter = 1000\n",
    "\n",
    "# load audio\n",
    "wav, sample_rate = torchaudio.load(audio_src_path, channels_first=False)\n",
    "wav /= torch.abs(wav).max() * 1.2\n",
    "M = min(len(wav), n_mic)\n",
    "spec_FTM = MultiSTFT(wav[:, :M], n_fft=n_fft)\n",
    "\n",
    "separater = FastMNMF2(\n",
    "    n_source=n_source,\n",
    "    n_basis=n_basis,\n",
    "    device=device,\n",
    "    init_SCM=init_SCM,\n",
    "    n_bit=n_bit,\n",
    "    algo=algo,\n",
    "    n_iter_init=n_iter_init,\n",
    "    g_eps=g_eps,\n",
    ")\n",
    "\n",
    "separater.file_id = audio_src_path.split(\"/\")[-1].split(\".\")[0]\n",
    "separater.load_spectrogram(spec_FTM, sample_rate)\n",
    "separater.solve(\n",
    "    n_iter=n_iter,\n",
    "    save_dir=audio_save_dir,\n",
    "    save_likelihood=False,\n",
    "    save_param=False,\n",
    "    save_wav=True,\n",
    "    interval_save=5,\n",
    ")\n",
    "torch.cuda.empty_cache()"
   ]
  },
  {
   "cell_type": "code",
   "execution_count": null,
   "metadata": {},
   "outputs": [],
   "source": []
  },
  {
   "cell_type": "markdown",
   "metadata": {},
   "source": []
  },
  {
   "cell_type": "markdown",
   "metadata": {},
   "source": [
    "## GAUSSIAN MNMF\n",
    "#### Sawada"
   ]
  },
  {
   "cell_type": "code",
   "execution_count": 29,
   "metadata": {},
   "outputs": [
    {
     "name": "stdout",
     "output_type": "stream",
     "text": [
      "Loaded mixture: ../data_PAM/real/Fly_me_v2/MIX_v2.wav, Shape: (2, 5659324), Sample Rate: 44100\n",
      "basse: (5659324, 2)\n",
      "percus: (5659324, 2)\n",
      "piano: (5659324, 2)\n",
      "voix: (5659324, 2)\n",
      "saxo: (5659324, 2)\n",
      "2048 1024\n",
      "(5523, 1025, 2)\n"
     ]
    },
    {
     "ename": "ValueError",
     "evalue": "noverlap must be less than nperseg.",
     "output_type": "error",
     "traceback": [
      "\u001b[0;31m---------------------------------------------------------------------------\u001b[0m",
      "\u001b[0;31mValueError\u001b[0m                                Traceback (most recent call last)",
      "Cell \u001b[0;32mIn[29], line 65\u001b[0m\n\u001b[1;32m     62\u001b[0m \u001b[38;5;28mprint\u001b[39m(X_mixture\u001b[38;5;241m.\u001b[39mshape)\n\u001b[1;32m     64\u001b[0m \u001b[38;5;66;03m# Compute STFT for each individual instrument recording\u001b[39;00m\n\u001b[0;32m---> 65\u001b[0m X_individual \u001b[38;5;241m=\u001b[39m {\n\u001b[1;32m     66\u001b[0m     instr: ss\u001b[38;5;241m.\u001b[39mstft(individual_tracks[instr], nperseg\u001b[38;5;241m=\u001b[39mn_fft, noverlap\u001b[38;5;241m=\u001b[39mhop_length \u001b[38;5;241m-\u001b[39m \u001b[38;5;241m1\u001b[39m)[\u001b[38;5;241m2\u001b[39m]\n\u001b[1;32m     67\u001b[0m     \u001b[38;5;28;01mfor\u001b[39;00m instr \u001b[38;5;129;01min\u001b[39;00m individual_tracks\u001b[38;5;241m.\u001b[39mkeys()\n\u001b[1;32m     68\u001b[0m }\n\u001b[1;32m     70\u001b[0m \u001b[38;5;28mprint\u001b[39m(\u001b[38;5;124m\"\u001b[39m\u001b[38;5;124mComputed STFTs.\u001b[39m\u001b[38;5;124m\"\u001b[39m)\n\u001b[1;32m     72\u001b[0m \u001b[38;5;66;03m# -------------------------------\u001b[39;00m\n\u001b[1;32m     73\u001b[0m \u001b[38;5;66;03m# 4️⃣ APPLY GAUSSIAN MNMF WITH SUPERVISION\u001b[39;00m\n\u001b[1;32m     74\u001b[0m \u001b[38;5;66;03m# -------------------------------\u001b[39;00m\n",
      "Cell \u001b[0;32mIn[29], line 66\u001b[0m, in \u001b[0;36m<dictcomp>\u001b[0;34m(.0)\u001b[0m\n\u001b[1;32m     62\u001b[0m \u001b[38;5;28mprint\u001b[39m(X_mixture\u001b[38;5;241m.\u001b[39mshape)\n\u001b[1;32m     64\u001b[0m \u001b[38;5;66;03m# Compute STFT for each individual instrument recording\u001b[39;00m\n\u001b[1;32m     65\u001b[0m X_individual \u001b[38;5;241m=\u001b[39m {\n\u001b[0;32m---> 66\u001b[0m     instr: ss\u001b[38;5;241m.\u001b[39mstft(individual_tracks[instr], nperseg\u001b[38;5;241m=\u001b[39mn_fft, noverlap\u001b[38;5;241m=\u001b[39mhop_length \u001b[38;5;241m-\u001b[39m \u001b[38;5;241m1\u001b[39m)[\u001b[38;5;241m2\u001b[39m]\n\u001b[1;32m     67\u001b[0m     \u001b[38;5;28;01mfor\u001b[39;00m instr \u001b[38;5;129;01min\u001b[39;00m individual_tracks\u001b[38;5;241m.\u001b[39mkeys()\n\u001b[1;32m     68\u001b[0m }\n\u001b[1;32m     70\u001b[0m \u001b[38;5;28mprint\u001b[39m(\u001b[38;5;124m\"\u001b[39m\u001b[38;5;124mComputed STFTs.\u001b[39m\u001b[38;5;124m\"\u001b[39m)\n\u001b[1;32m     72\u001b[0m \u001b[38;5;66;03m# -------------------------------\u001b[39;00m\n\u001b[1;32m     73\u001b[0m \u001b[38;5;66;03m# 4️⃣ APPLY GAUSSIAN MNMF WITH SUPERVISION\u001b[39;00m\n\u001b[1;32m     74\u001b[0m \u001b[38;5;66;03m# -------------------------------\u001b[39;00m\n",
      "File \u001b[0;32m/opt/anaconda3/envs/creative_ml/lib/python3.11/site-packages/scipy/signal/_spectral_py.py:1240\u001b[0m, in \u001b[0;36mstft\u001b[0;34m(x, fs, window, nperseg, noverlap, nfft, detrend, return_onesided, boundary, padded, axis, scaling)\u001b[0m\n\u001b[1;32m   1237\u001b[0m \u001b[38;5;28;01melif\u001b[39;00m scaling \u001b[38;5;241m!=\u001b[39m \u001b[38;5;124m'\u001b[39m\u001b[38;5;124mspectrum\u001b[39m\u001b[38;5;124m'\u001b[39m:\n\u001b[1;32m   1238\u001b[0m     \u001b[38;5;28;01mraise\u001b[39;00m \u001b[38;5;167;01mValueError\u001b[39;00m(\u001b[38;5;124mf\u001b[39m\u001b[38;5;124m\"\u001b[39m\u001b[38;5;124mParameter \u001b[39m\u001b[38;5;132;01m{\u001b[39;00mscaling\u001b[38;5;132;01m=}\u001b[39;00m\u001b[38;5;124m not in [\u001b[39m\u001b[38;5;124m'\u001b[39m\u001b[38;5;124mspectrum\u001b[39m\u001b[38;5;124m'\u001b[39m\u001b[38;5;124m, \u001b[39m\u001b[38;5;124m'\u001b[39m\u001b[38;5;124mpsd\u001b[39m\u001b[38;5;124m'\u001b[39m\u001b[38;5;124m]!\u001b[39m\u001b[38;5;124m\"\u001b[39m)\n\u001b[0;32m-> 1240\u001b[0m freqs, time, Zxx \u001b[38;5;241m=\u001b[39m _spectral_helper(x, x, fs, window, nperseg, noverlap,\n\u001b[1;32m   1241\u001b[0m                                     nfft, detrend, return_onesided,\n\u001b[1;32m   1242\u001b[0m                                     scaling\u001b[38;5;241m=\u001b[39mscaling, axis\u001b[38;5;241m=\u001b[39maxis,\n\u001b[1;32m   1243\u001b[0m                                     mode\u001b[38;5;241m=\u001b[39m\u001b[38;5;124m'\u001b[39m\u001b[38;5;124mstft\u001b[39m\u001b[38;5;124m'\u001b[39m, boundary\u001b[38;5;241m=\u001b[39mboundary,\n\u001b[1;32m   1244\u001b[0m                                     padded\u001b[38;5;241m=\u001b[39mpadded)\n\u001b[1;32m   1246\u001b[0m \u001b[38;5;28;01mreturn\u001b[39;00m freqs, time, Zxx\n",
      "File \u001b[0;32m/opt/anaconda3/envs/creative_ml/lib/python3.11/site-packages/scipy/signal/_spectral_py.py:1851\u001b[0m, in \u001b[0;36m_spectral_helper\u001b[0;34m(x, y, fs, window, nperseg, noverlap, nfft, detrend, return_onesided, scaling, axis, mode, boundary, padded)\u001b[0m\n\u001b[1;32m   1849\u001b[0m     noverlap \u001b[38;5;241m=\u001b[39m \u001b[38;5;28mint\u001b[39m(noverlap)\n\u001b[1;32m   1850\u001b[0m \u001b[38;5;28;01mif\u001b[39;00m noverlap \u001b[38;5;241m>\u001b[39m\u001b[38;5;241m=\u001b[39m nperseg:\n\u001b[0;32m-> 1851\u001b[0m     \u001b[38;5;28;01mraise\u001b[39;00m \u001b[38;5;167;01mValueError\u001b[39;00m(\u001b[38;5;124m'\u001b[39m\u001b[38;5;124mnoverlap must be less than nperseg.\u001b[39m\u001b[38;5;124m'\u001b[39m)\n\u001b[1;32m   1852\u001b[0m nstep \u001b[38;5;241m=\u001b[39m nperseg \u001b[38;5;241m-\u001b[39m noverlap\n\u001b[1;32m   1854\u001b[0m \u001b[38;5;66;03m# Padding occurs after boundary extension, so that the extended signal ends\u001b[39;00m\n\u001b[1;32m   1855\u001b[0m \u001b[38;5;66;03m# in zeros, instead of introducing an impulse at the end.\u001b[39;00m\n\u001b[1;32m   1856\u001b[0m \u001b[38;5;66;03m# I.e. if x = [..., 3, 2]\u001b[39;00m\n\u001b[1;32m   1857\u001b[0m \u001b[38;5;66;03m# extend then pad -> [..., 3, 2, 2, 3, 0, 0, 0]\u001b[39;00m\n\u001b[1;32m   1858\u001b[0m \u001b[38;5;66;03m# pad then extend -> [..., 3, 2, 0, 0, 0, 2, 3]\u001b[39;00m\n",
      "\u001b[0;31mValueError\u001b[0m: noverlap must be less than nperseg."
     ]
    }
   ],
   "source": [
    "import numpy as np\n",
    "import soundfile as sf\n",
    "import scipy.signal as ss\n",
    "import librosa\n",
    "import IPython.display as ipd\n",
    "from ssspy.bss.mnmf import GaussMNMF as GaussMNMFBase\n",
    "\n",
    "class GaussMNMF(GaussMNMFBase):\n",
    "    def __init__(self, *args, **kwargs) -> None:\n",
    "        super().__init__(*args, **kwargs)\n",
    "        self.progress_bar = None\n",
    "\n",
    "    def __call__(self, *args, n_iter: int = 100, **kwargs) -> np.ndarray:\n",
    "        self.n_iter = n_iter\n",
    "        return super().__call__(*args, n_iter=n_iter, **kwargs)\n",
    "\n",
    "    def update_once(self) -> None:\n",
    "        if self.progress_bar is None:\n",
    "            self.progress_bar = tqdm(total=self.n_iter)\n",
    "        super().update_once()\n",
    "        self.progress_bar.update(1)\n",
    "\n",
    "n_sources = 5\n",
    "max_duration = 140\n",
    "n_fft = 2048\n",
    "hop_length = n_fft // 2  # Reduce hop_length to ensure noverlap < nperseg\n",
    "win_length = 2048\n",
    "\n",
    "# -------------------------------\n",
    "# 1️⃣ LOAD MULTICHANNEL MIXTURE RECORDING\n",
    "# -------------------------------\n",
    "mixture_file = \"../data_PAM/real/Fly_me_v2/MIX_v2.wav\"\n",
    "mixture_audio, sr = sf.read(mixture_file)\n",
    "mixture_audio = mixture_audio.T  # Transpose to (Channels, Samples)\n",
    "\n",
    "print(f\"Loaded mixture: {mixture_file}, Shape: {mixture_audio.shape}, Sample Rate: {sr}\")\n",
    "\n",
    "# -------------------------------\n",
    "# 2️⃣ LOAD INDIVIDUAL INSTRUMENT RECORDINGS (MICS D’APPOINT)\n",
    "# -------------------------------\n",
    "instrument_files = {\n",
    "    \"basse\": \"../data_PAM/real/Fly_me_v2/Basse_v2.wav\",\n",
    "    \"percus\": \"../data_PAM/real/Fly_me_v2/Percus_v2.wav\",\n",
    "    \"piano\": \"../data_PAM/real/Fly_me_v2/Piano_v2.wav\",\n",
    "    \"voix\": \"../data_PAM/real/Fly_me_v2/Voix_v2.wav\",\n",
    "    \"saxo\": \"../data_PAM/real/Fly_me_v2/Saxo_v2.wav\"\n",
    "}  # Update based on actual recordings\n",
    "\n",
    "\n",
    "for instr, signal in individual_tracks.items():\n",
    "    print(f\"{instr}: {signal.shape}\")\n",
    "\n",
    "\n",
    "# -------------------------------\n",
    "# 3️⃣ COMPUTE STFT FOR MIXTURE & SEPARATE RECORDINGS\n",
    "# -------------------------------\n",
    "# Compute STFT for each microphone in the mixture\n",
    "print(n_fft, hop_length)\n",
    "X_mixture = ss.stft(mixture_audio, nperseg=n_fft, noverlap=hop_length - 1)[2]  # Ensure noverlap < nperseg\n",
    "\n",
    "X_mixture = X_mixture.T  # Transpose to (Channels, Samples)\n",
    "print(X_mixture.shape)\n",
    "\n",
    "# Compute STFT for each individual instrument recording\n",
    "X_individual = {\n",
    "    instr: ss.stft(individual_tracks[instr], nperseg=n_fft, noverlap=hop_length - 1)[2]\n",
    "    for instr in individual_tracks.keys()\n",
    "}\n",
    "\n",
    "print(\"Computed STFTs.\")\n",
    "\n",
    "# -------------------------------\n",
    "# 4️⃣ APPLY GAUSSIAN MNMF WITH SUPERVISION\n",
    "# -------------------------------\n",
    "n_sources = len(instrument_files)  # Number of expected sources\n",
    "n_basis = 30  # Number of basis components for MNMF\n",
    "\n",
    "# Initialize MNMF\n",
    "nmf = GaussMNMF(n_basis=n_basis, n_sources=n_sources)\n",
    "\n",
    "# Use the individual recordings as guidance\n",
    "Y = nmf.fit_transform(X_mixture, reference=X_individual)\n",
    "\n",
    "print(\"Gaussian MNMF separation completed.\")\n",
    "\n",
    "# -------------------------------\n",
    "# 5️⃣ RECONSTRUCT AUDIO, SAVE & LISTEN\n",
    "# -------------------------------\n",
    "sources = np.array([\n",
    "    ss.istft(Y[src], nperseg=n_fft, noverlap=hop_length - 1)[1]\n",
    "    for src in range(Y.shape[0])\n",
    "])\n",
    "\n",
    "# Save separated sources and play them\n",
    "for i, (instrument, _) in enumerate(instrument_files.items()):\n",
    "    output_file = f\"separated_{instrument}.wav\"\n",
    "    sf.write(output_file, sources[i], sr)\n",
    "    print(f\"Saved: {output_file}\")\n",
    "    ipd.display(ipd.Audio(sources[i], rate=sr))\n",
    "\n",
    "print(\"Separation complete!\")\n"
   ]
  },
  {
   "cell_type": "markdown",
   "metadata": {},
   "source": []
  }
 ],
 "metadata": {
  "kernelspec": {
   "display_name": "creative_ml",
   "language": "python",
   "name": "python3"
  },
  "language_info": {
   "codemirror_mode": {
    "name": "ipython",
    "version": 3
   },
   "file_extension": ".py",
   "mimetype": "text/x-python",
   "name": "python",
   "nbconvert_exporter": "python",
   "pygments_lexer": "ipython3",
   "version": "3.11.8"
  }
 },
 "nbformat": 4,
 "nbformat_minor": 2
}
